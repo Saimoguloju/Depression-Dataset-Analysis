{
 "cells": [
  {
   "cell_type": "code",
   "execution_count": 1,
   "id": "d7100f65",
   "metadata": {},
   "outputs": [],
   "source": [
    "import numpy as np\n",
    "import pandas as pd\n",
    "import matplotlib.pyplot as plt\n",
    "import seaborn as sns\n",
    "\n",
    "import warnings\n",
    "warnings.filterwarnings(\"ignore\")"
   ]
  },
  {
   "cell_type": "code",
   "execution_count": 2,
   "id": "ade395a1",
   "metadata": {},
   "outputs": [],
   "source": [
    "df=pd.read_csv(\"depression_data.csv\")"
   ]
  },
  {
   "cell_type": "code",
   "execution_count": 3,
   "id": "499c8046",
   "metadata": {},
   "outputs": [
    {
     "data": {
      "text/html": [
       "<div>\n",
       "<style scoped>\n",
       "    .dataframe tbody tr th:only-of-type {\n",
       "        vertical-align: middle;\n",
       "    }\n",
       "\n",
       "    .dataframe tbody tr th {\n",
       "        vertical-align: top;\n",
       "    }\n",
       "\n",
       "    .dataframe thead th {\n",
       "        text-align: right;\n",
       "    }\n",
       "</style>\n",
       "<table border=\"1\" class=\"dataframe\">\n",
       "  <thead>\n",
       "    <tr style=\"text-align: right;\">\n",
       "      <th></th>\n",
       "      <th>Name</th>\n",
       "      <th>Age</th>\n",
       "      <th>Marital Status</th>\n",
       "      <th>Education Level</th>\n",
       "      <th>Number of Children</th>\n",
       "      <th>Smoking Status</th>\n",
       "      <th>Physical Activity Level</th>\n",
       "      <th>Employment Status</th>\n",
       "      <th>Income</th>\n",
       "      <th>Alcohol Consumption</th>\n",
       "      <th>Dietary Habits</th>\n",
       "      <th>Sleep Patterns</th>\n",
       "      <th>History of Mental Illness</th>\n",
       "      <th>History of Substance Abuse</th>\n",
       "      <th>Family History of Depression</th>\n",
       "      <th>Chronic Medical Conditions</th>\n",
       "    </tr>\n",
       "  </thead>\n",
       "  <tbody>\n",
       "    <tr>\n",
       "      <th>0</th>\n",
       "      <td>Christine Barker</td>\n",
       "      <td>31</td>\n",
       "      <td>Married</td>\n",
       "      <td>Bachelor's Degree</td>\n",
       "      <td>2</td>\n",
       "      <td>Non-smoker</td>\n",
       "      <td>Active</td>\n",
       "      <td>Unemployed</td>\n",
       "      <td>26265.67</td>\n",
       "      <td>Moderate</td>\n",
       "      <td>Moderate</td>\n",
       "      <td>Fair</td>\n",
       "      <td>Yes</td>\n",
       "      <td>No</td>\n",
       "      <td>Yes</td>\n",
       "      <td>Yes</td>\n",
       "    </tr>\n",
       "    <tr>\n",
       "      <th>1</th>\n",
       "      <td>Jacqueline Lewis</td>\n",
       "      <td>55</td>\n",
       "      <td>Married</td>\n",
       "      <td>High School</td>\n",
       "      <td>1</td>\n",
       "      <td>Non-smoker</td>\n",
       "      <td>Sedentary</td>\n",
       "      <td>Employed</td>\n",
       "      <td>42710.36</td>\n",
       "      <td>High</td>\n",
       "      <td>Unhealthy</td>\n",
       "      <td>Fair</td>\n",
       "      <td>Yes</td>\n",
       "      <td>No</td>\n",
       "      <td>No</td>\n",
       "      <td>Yes</td>\n",
       "    </tr>\n",
       "    <tr>\n",
       "      <th>2</th>\n",
       "      <td>Shannon Church</td>\n",
       "      <td>78</td>\n",
       "      <td>Widowed</td>\n",
       "      <td>Master's Degree</td>\n",
       "      <td>1</td>\n",
       "      <td>Non-smoker</td>\n",
       "      <td>Sedentary</td>\n",
       "      <td>Employed</td>\n",
       "      <td>125332.79</td>\n",
       "      <td>Low</td>\n",
       "      <td>Unhealthy</td>\n",
       "      <td>Good</td>\n",
       "      <td>No</td>\n",
       "      <td>No</td>\n",
       "      <td>Yes</td>\n",
       "      <td>No</td>\n",
       "    </tr>\n",
       "    <tr>\n",
       "      <th>3</th>\n",
       "      <td>Charles Jordan</td>\n",
       "      <td>58</td>\n",
       "      <td>Divorced</td>\n",
       "      <td>Master's Degree</td>\n",
       "      <td>3</td>\n",
       "      <td>Non-smoker</td>\n",
       "      <td>Moderate</td>\n",
       "      <td>Unemployed</td>\n",
       "      <td>9992.78</td>\n",
       "      <td>Moderate</td>\n",
       "      <td>Moderate</td>\n",
       "      <td>Poor</td>\n",
       "      <td>No</td>\n",
       "      <td>No</td>\n",
       "      <td>No</td>\n",
       "      <td>No</td>\n",
       "    </tr>\n",
       "    <tr>\n",
       "      <th>4</th>\n",
       "      <td>Michael Rich</td>\n",
       "      <td>18</td>\n",
       "      <td>Single</td>\n",
       "      <td>High School</td>\n",
       "      <td>0</td>\n",
       "      <td>Non-smoker</td>\n",
       "      <td>Sedentary</td>\n",
       "      <td>Unemployed</td>\n",
       "      <td>8595.08</td>\n",
       "      <td>Low</td>\n",
       "      <td>Moderate</td>\n",
       "      <td>Fair</td>\n",
       "      <td>Yes</td>\n",
       "      <td>No</td>\n",
       "      <td>Yes</td>\n",
       "      <td>Yes</td>\n",
       "    </tr>\n",
       "  </tbody>\n",
       "</table>\n",
       "</div>"
      ],
      "text/plain": [
       "               Name  Age Marital Status    Education Level  \\\n",
       "0  Christine Barker   31        Married  Bachelor's Degree   \n",
       "1  Jacqueline Lewis   55        Married        High School   \n",
       "2    Shannon Church   78        Widowed    Master's Degree   \n",
       "3    Charles Jordan   58       Divorced    Master's Degree   \n",
       "4      Michael Rich   18         Single        High School   \n",
       "\n",
       "   Number of Children Smoking Status Physical Activity Level  \\\n",
       "0                   2     Non-smoker                  Active   \n",
       "1                   1     Non-smoker               Sedentary   \n",
       "2                   1     Non-smoker               Sedentary   \n",
       "3                   3     Non-smoker                Moderate   \n",
       "4                   0     Non-smoker               Sedentary   \n",
       "\n",
       "  Employment Status     Income Alcohol Consumption Dietary Habits  \\\n",
       "0        Unemployed   26265.67            Moderate       Moderate   \n",
       "1          Employed   42710.36                High      Unhealthy   \n",
       "2          Employed  125332.79                 Low      Unhealthy   \n",
       "3        Unemployed    9992.78            Moderate       Moderate   \n",
       "4        Unemployed    8595.08                 Low       Moderate   \n",
       "\n",
       "  Sleep Patterns History of Mental Illness History of Substance Abuse  \\\n",
       "0           Fair                       Yes                         No   \n",
       "1           Fair                       Yes                         No   \n",
       "2           Good                        No                         No   \n",
       "3           Poor                        No                         No   \n",
       "4           Fair                       Yes                         No   \n",
       "\n",
       "  Family History of Depression Chronic Medical Conditions  \n",
       "0                          Yes                        Yes  \n",
       "1                           No                        Yes  \n",
       "2                          Yes                         No  \n",
       "3                           No                         No  \n",
       "4                          Yes                        Yes  "
      ]
     },
     "execution_count": 3,
     "metadata": {},
     "output_type": "execute_result"
    }
   ],
   "source": [
    "df.head()"
   ]
  },
  {
   "cell_type": "code",
   "execution_count": 4,
   "id": "07a8e5ad",
   "metadata": {},
   "outputs": [
    {
     "data": {
      "text/html": [
       "<div>\n",
       "<style scoped>\n",
       "    .dataframe tbody tr th:only-of-type {\n",
       "        vertical-align: middle;\n",
       "    }\n",
       "\n",
       "    .dataframe tbody tr th {\n",
       "        vertical-align: top;\n",
       "    }\n",
       "\n",
       "    .dataframe thead th {\n",
       "        text-align: right;\n",
       "    }\n",
       "</style>\n",
       "<table border=\"1\" class=\"dataframe\">\n",
       "  <thead>\n",
       "    <tr style=\"text-align: right;\">\n",
       "      <th></th>\n",
       "      <th>Name</th>\n",
       "      <th>Age</th>\n",
       "      <th>Marital Status</th>\n",
       "      <th>Education Level</th>\n",
       "      <th>Number of Children</th>\n",
       "      <th>Smoking Status</th>\n",
       "      <th>Physical Activity Level</th>\n",
       "      <th>Employment Status</th>\n",
       "      <th>Income</th>\n",
       "      <th>Alcohol Consumption</th>\n",
       "      <th>Dietary Habits</th>\n",
       "      <th>Sleep Patterns</th>\n",
       "      <th>History of Mental Illness</th>\n",
       "      <th>History of Substance Abuse</th>\n",
       "      <th>Family History of Depression</th>\n",
       "      <th>Chronic Medical Conditions</th>\n",
       "    </tr>\n",
       "  </thead>\n",
       "  <tbody>\n",
       "    <tr>\n",
       "      <th>413763</th>\n",
       "      <td>Sean Miller</td>\n",
       "      <td>68</td>\n",
       "      <td>Married</td>\n",
       "      <td>Master's Degree</td>\n",
       "      <td>0</td>\n",
       "      <td>Former</td>\n",
       "      <td>Moderate</td>\n",
       "      <td>Employed</td>\n",
       "      <td>109233.43</td>\n",
       "      <td>Low</td>\n",
       "      <td>Healthy</td>\n",
       "      <td>Good</td>\n",
       "      <td>No</td>\n",
       "      <td>No</td>\n",
       "      <td>No</td>\n",
       "      <td>No</td>\n",
       "    </tr>\n",
       "    <tr>\n",
       "      <th>413764</th>\n",
       "      <td>Christina Brown</td>\n",
       "      <td>26</td>\n",
       "      <td>Single</td>\n",
       "      <td>Bachelor's Degree</td>\n",
       "      <td>0</td>\n",
       "      <td>Current</td>\n",
       "      <td>Active</td>\n",
       "      <td>Employed</td>\n",
       "      <td>96760.97</td>\n",
       "      <td>Low</td>\n",
       "      <td>Healthy</td>\n",
       "      <td>Poor</td>\n",
       "      <td>Yes</td>\n",
       "      <td>Yes</td>\n",
       "      <td>No</td>\n",
       "      <td>Yes</td>\n",
       "    </tr>\n",
       "    <tr>\n",
       "      <th>413765</th>\n",
       "      <td>Matthew Jenkins</td>\n",
       "      <td>57</td>\n",
       "      <td>Married</td>\n",
       "      <td>Bachelor's Degree</td>\n",
       "      <td>0</td>\n",
       "      <td>Non-smoker</td>\n",
       "      <td>Sedentary</td>\n",
       "      <td>Employed</td>\n",
       "      <td>77353.26</td>\n",
       "      <td>Moderate</td>\n",
       "      <td>Moderate</td>\n",
       "      <td>Fair</td>\n",
       "      <td>No</td>\n",
       "      <td>No</td>\n",
       "      <td>Yes</td>\n",
       "      <td>Yes</td>\n",
       "    </tr>\n",
       "    <tr>\n",
       "      <th>413766</th>\n",
       "      <td>Gary Faulkner</td>\n",
       "      <td>71</td>\n",
       "      <td>Married</td>\n",
       "      <td>Associate Degree</td>\n",
       "      <td>2</td>\n",
       "      <td>Non-smoker</td>\n",
       "      <td>Sedentary</td>\n",
       "      <td>Unemployed</td>\n",
       "      <td>24557.08</td>\n",
       "      <td>Moderate</td>\n",
       "      <td>Moderate</td>\n",
       "      <td>Poor</td>\n",
       "      <td>No</td>\n",
       "      <td>Yes</td>\n",
       "      <td>No</td>\n",
       "      <td>No</td>\n",
       "    </tr>\n",
       "    <tr>\n",
       "      <th>413767</th>\n",
       "      <td>Joseph Johnson</td>\n",
       "      <td>62</td>\n",
       "      <td>Widowed</td>\n",
       "      <td>Master's Degree</td>\n",
       "      <td>0</td>\n",
       "      <td>Former</td>\n",
       "      <td>Moderate</td>\n",
       "      <td>Employed</td>\n",
       "      <td>107125.74</td>\n",
       "      <td>Moderate</td>\n",
       "      <td>Healthy</td>\n",
       "      <td>Good</td>\n",
       "      <td>No</td>\n",
       "      <td>Yes</td>\n",
       "      <td>No</td>\n",
       "      <td>No</td>\n",
       "    </tr>\n",
       "  </tbody>\n",
       "</table>\n",
       "</div>"
      ],
      "text/plain": [
       "                   Name  Age Marital Status    Education Level  \\\n",
       "413763      Sean Miller   68        Married    Master's Degree   \n",
       "413764  Christina Brown   26         Single  Bachelor's Degree   \n",
       "413765  Matthew Jenkins   57        Married  Bachelor's Degree   \n",
       "413766    Gary Faulkner   71        Married   Associate Degree   \n",
       "413767   Joseph Johnson   62        Widowed    Master's Degree   \n",
       "\n",
       "        Number of Children Smoking Status Physical Activity Level  \\\n",
       "413763                   0         Former                Moderate   \n",
       "413764                   0        Current                  Active   \n",
       "413765                   0     Non-smoker               Sedentary   \n",
       "413766                   2     Non-smoker               Sedentary   \n",
       "413767                   0         Former                Moderate   \n",
       "\n",
       "       Employment Status     Income Alcohol Consumption Dietary Habits  \\\n",
       "413763          Employed  109233.43                 Low        Healthy   \n",
       "413764          Employed   96760.97                 Low        Healthy   \n",
       "413765          Employed   77353.26            Moderate       Moderate   \n",
       "413766        Unemployed   24557.08            Moderate       Moderate   \n",
       "413767          Employed  107125.74            Moderate        Healthy   \n",
       "\n",
       "       Sleep Patterns History of Mental Illness History of Substance Abuse  \\\n",
       "413763           Good                        No                         No   \n",
       "413764           Poor                       Yes                        Yes   \n",
       "413765           Fair                        No                         No   \n",
       "413766           Poor                        No                        Yes   \n",
       "413767           Good                        No                        Yes   \n",
       "\n",
       "       Family History of Depression Chronic Medical Conditions  \n",
       "413763                           No                         No  \n",
       "413764                           No                        Yes  \n",
       "413765                          Yes                        Yes  \n",
       "413766                           No                         No  \n",
       "413767                           No                         No  "
      ]
     },
     "execution_count": 4,
     "metadata": {},
     "output_type": "execute_result"
    }
   ],
   "source": [
    "df.tail()"
   ]
  },
  {
   "cell_type": "code",
   "execution_count": 5,
   "id": "3edd326a",
   "metadata": {},
   "outputs": [
    {
     "data": {
      "text/plain": [
       "(413768, 16)"
      ]
     },
     "execution_count": 5,
     "metadata": {},
     "output_type": "execute_result"
    }
   ],
   "source": [
    "df.shape"
   ]
  },
  {
   "cell_type": "code",
   "execution_count": 6,
   "id": "41b6a518",
   "metadata": {},
   "outputs": [
    {
     "data": {
      "text/plain": [
       "Index(['Name', 'Age', 'Marital Status', 'Education Level',\n",
       "       'Number of Children', 'Smoking Status', 'Physical Activity Level',\n",
       "       'Employment Status', 'Income', 'Alcohol Consumption', 'Dietary Habits',\n",
       "       'Sleep Patterns', 'History of Mental Illness',\n",
       "       'History of Substance Abuse', 'Family History of Depression',\n",
       "       'Chronic Medical Conditions'],\n",
       "      dtype='object')"
      ]
     },
     "execution_count": 6,
     "metadata": {},
     "output_type": "execute_result"
    }
   ],
   "source": [
    "df.columns"
   ]
  },
  {
   "cell_type": "code",
   "execution_count": 7,
   "id": "1c110983",
   "metadata": {},
   "outputs": [
    {
     "data": {
      "text/plain": [
       "Name                             object\n",
       "Age                               int64\n",
       "Marital Status                   object\n",
       "Education Level                  object\n",
       "Number of Children                int64\n",
       "Smoking Status                   object\n",
       "Physical Activity Level          object\n",
       "Employment Status                object\n",
       "Income                          float64\n",
       "Alcohol Consumption              object\n",
       "Dietary Habits                   object\n",
       "Sleep Patterns                   object\n",
       "History of Mental Illness        object\n",
       "History of Substance Abuse       object\n",
       "Family History of Depression     object\n",
       "Chronic Medical Conditions       object\n",
       "dtype: object"
      ]
     },
     "execution_count": 7,
     "metadata": {},
     "output_type": "execute_result"
    }
   ],
   "source": [
    "df.dtypes"
   ]
  },
  {
   "cell_type": "code",
   "execution_count": 8,
   "id": "cda0366e",
   "metadata": {},
   "outputs": [
    {
     "name": "stdout",
     "output_type": "stream",
     "text": [
      "<class 'pandas.core.frame.DataFrame'>\n",
      "RangeIndex: 413768 entries, 0 to 413767\n",
      "Data columns (total 16 columns):\n",
      " #   Column                        Non-Null Count   Dtype  \n",
      "---  ------                        --------------   -----  \n",
      " 0   Name                          413768 non-null  object \n",
      " 1   Age                           413768 non-null  int64  \n",
      " 2   Marital Status                413768 non-null  object \n",
      " 3   Education Level               413768 non-null  object \n",
      " 4   Number of Children            413768 non-null  int64  \n",
      " 5   Smoking Status                413768 non-null  object \n",
      " 6   Physical Activity Level       413768 non-null  object \n",
      " 7   Employment Status             413768 non-null  object \n",
      " 8   Income                        413768 non-null  float64\n",
      " 9   Alcohol Consumption           413768 non-null  object \n",
      " 10  Dietary Habits                413768 non-null  object \n",
      " 11  Sleep Patterns                413768 non-null  object \n",
      " 12  History of Mental Illness     413768 non-null  object \n",
      " 13  History of Substance Abuse    413768 non-null  object \n",
      " 14  Family History of Depression  413768 non-null  object \n",
      " 15  Chronic Medical Conditions    413768 non-null  object \n",
      "dtypes: float64(1), int64(2), object(13)\n",
      "memory usage: 50.5+ MB\n"
     ]
    }
   ],
   "source": [
    "df.info()"
   ]
  },
  {
   "cell_type": "code",
   "execution_count": 9,
   "id": "50a4ea20",
   "metadata": {},
   "outputs": [
    {
     "data": {
      "text/html": [
       "<div>\n",
       "<style scoped>\n",
       "    .dataframe tbody tr th:only-of-type {\n",
       "        vertical-align: middle;\n",
       "    }\n",
       "\n",
       "    .dataframe tbody tr th {\n",
       "        vertical-align: top;\n",
       "    }\n",
       "\n",
       "    .dataframe thead th {\n",
       "        text-align: right;\n",
       "    }\n",
       "</style>\n",
       "<table border=\"1\" class=\"dataframe\">\n",
       "  <thead>\n",
       "    <tr style=\"text-align: right;\">\n",
       "      <th></th>\n",
       "      <th>Age</th>\n",
       "      <th>Number of Children</th>\n",
       "      <th>Income</th>\n",
       "    </tr>\n",
       "  </thead>\n",
       "  <tbody>\n",
       "    <tr>\n",
       "      <th>count</th>\n",
       "      <td>413768.000000</td>\n",
       "      <td>413768.000000</td>\n",
       "      <td>413768.000000</td>\n",
       "    </tr>\n",
       "    <tr>\n",
       "      <th>mean</th>\n",
       "      <td>49.000713</td>\n",
       "      <td>1.298972</td>\n",
       "      <td>50661.707971</td>\n",
       "    </tr>\n",
       "    <tr>\n",
       "      <th>std</th>\n",
       "      <td>18.158759</td>\n",
       "      <td>1.237054</td>\n",
       "      <td>40624.100565</td>\n",
       "    </tr>\n",
       "    <tr>\n",
       "      <th>min</th>\n",
       "      <td>18.000000</td>\n",
       "      <td>0.000000</td>\n",
       "      <td>0.410000</td>\n",
       "    </tr>\n",
       "    <tr>\n",
       "      <th>25%</th>\n",
       "      <td>33.000000</td>\n",
       "      <td>0.000000</td>\n",
       "      <td>21001.030000</td>\n",
       "    </tr>\n",
       "    <tr>\n",
       "      <th>50%</th>\n",
       "      <td>49.000000</td>\n",
       "      <td>1.000000</td>\n",
       "      <td>37520.135000</td>\n",
       "    </tr>\n",
       "    <tr>\n",
       "      <th>75%</th>\n",
       "      <td>65.000000</td>\n",
       "      <td>2.000000</td>\n",
       "      <td>76616.300000</td>\n",
       "    </tr>\n",
       "    <tr>\n",
       "      <th>max</th>\n",
       "      <td>80.000000</td>\n",
       "      <td>4.000000</td>\n",
       "      <td>209995.220000</td>\n",
       "    </tr>\n",
       "  </tbody>\n",
       "</table>\n",
       "</div>"
      ],
      "text/plain": [
       "                 Age  Number of Children         Income\n",
       "count  413768.000000       413768.000000  413768.000000\n",
       "mean       49.000713            1.298972   50661.707971\n",
       "std        18.158759            1.237054   40624.100565\n",
       "min        18.000000            0.000000       0.410000\n",
       "25%        33.000000            0.000000   21001.030000\n",
       "50%        49.000000            1.000000   37520.135000\n",
       "75%        65.000000            2.000000   76616.300000\n",
       "max        80.000000            4.000000  209995.220000"
      ]
     },
     "execution_count": 9,
     "metadata": {},
     "output_type": "execute_result"
    }
   ],
   "source": [
    "df.describe()"
   ]
  },
  {
   "cell_type": "code",
   "execution_count": 10,
   "id": "20dc66fb",
   "metadata": {},
   "outputs": [
    {
     "data": {
      "text/plain": [
       "Name                            0\n",
       "Age                             0\n",
       "Marital Status                  0\n",
       "Education Level                 0\n",
       "Number of Children              0\n",
       "Smoking Status                  0\n",
       "Physical Activity Level         0\n",
       "Employment Status               0\n",
       "Income                          0\n",
       "Alcohol Consumption             0\n",
       "Dietary Habits                  0\n",
       "Sleep Patterns                  0\n",
       "History of Mental Illness       0\n",
       "History of Substance Abuse      0\n",
       "Family History of Depression    0\n",
       "Chronic Medical Conditions      0\n",
       "dtype: int64"
      ]
     },
     "execution_count": 10,
     "metadata": {},
     "output_type": "execute_result"
    }
   ],
   "source": [
    "df.isna().sum()"
   ]
  },
  {
   "cell_type": "code",
   "execution_count": 11,
   "id": "a0104753",
   "metadata": {},
   "outputs": [
    {
     "data": {
      "text/plain": [
       "0"
      ]
     },
     "execution_count": 11,
     "metadata": {},
     "output_type": "execute_result"
    }
   ],
   "source": [
    "df.duplicated().sum()"
   ]
  },
  {
   "cell_type": "code",
   "execution_count": 12,
   "id": "68eea6b8",
   "metadata": {},
   "outputs": [
    {
     "data": {
      "text/plain": [
       "Name                            196851\n",
       "Age                                 63\n",
       "Marital Status                       4\n",
       "Education Level                      5\n",
       "Number of Children                   5\n",
       "Smoking Status                       3\n",
       "Physical Activity Level              3\n",
       "Employment Status                    2\n",
       "Income                          405282\n",
       "Alcohol Consumption                  3\n",
       "Dietary Habits                       3\n",
       "Sleep Patterns                       3\n",
       "History of Mental Illness            2\n",
       "History of Substance Abuse           2\n",
       "Family History of Depression         2\n",
       "Chronic Medical Conditions           2\n",
       "dtype: int64"
      ]
     },
     "execution_count": 12,
     "metadata": {},
     "output_type": "execute_result"
    }
   ],
   "source": [
    "df.nunique()"
   ]
  },
  {
   "cell_type": "code",
   "execution_count": 13,
   "id": "dbef876c",
   "metadata": {},
   "outputs": [
    {
     "data": {
      "text/plain": [
       "Name                            413768\n",
       "Age                             413768\n",
       "Marital Status                  413768\n",
       "Education Level                 413768\n",
       "Number of Children              413768\n",
       "Smoking Status                  413768\n",
       "Physical Activity Level         413768\n",
       "Employment Status               413768\n",
       "Income                          413768\n",
       "Alcohol Consumption             413768\n",
       "Dietary Habits                  413768\n",
       "Sleep Patterns                  413768\n",
       "History of Mental Illness       413768\n",
       "History of Substance Abuse      413768\n",
       "Family History of Depression    413768\n",
       "Chronic Medical Conditions      413768\n",
       "dtype: int64"
      ]
     },
     "execution_count": 13,
     "metadata": {},
     "output_type": "execute_result"
    }
   ],
   "source": [
    "df.count()"
   ]
  },
  {
   "cell_type": "code",
   "execution_count": 14,
   "id": "3ca15112",
   "metadata": {},
   "outputs": [
    {
     "data": {
      "text/plain": [
       "80"
      ]
     },
     "execution_count": 14,
     "metadata": {},
     "output_type": "execute_result"
    }
   ],
   "source": [
    "df['Age'].max()"
   ]
  },
  {
   "cell_type": "code",
   "execution_count": 15,
   "id": "185e83f8",
   "metadata": {},
   "outputs": [
    {
     "data": {
      "text/plain": [
       "18"
      ]
     },
     "execution_count": 15,
     "metadata": {},
     "output_type": "execute_result"
    }
   ],
   "source": [
    "df['Age'].min()"
   ]
  },
  {
   "cell_type": "code",
   "execution_count": 16,
   "id": "cecf2736",
   "metadata": {},
   "outputs": [
    {
     "data": {
      "text/plain": [
       "array([\"Bachelor's Degree\", 'High School', \"Master's Degree\",\n",
       "       'Associate Degree', 'PhD'], dtype=object)"
      ]
     },
     "execution_count": 16,
     "metadata": {},
     "output_type": "execute_result"
    }
   ],
   "source": [
    "df['Education Level'].unique()"
   ]
  },
  {
   "cell_type": "code",
   "execution_count": 17,
   "id": "b64a92e4",
   "metadata": {},
   "outputs": [
    {
     "data": {
      "text/plain": [
       "209995.22"
      ]
     },
     "execution_count": 17,
     "metadata": {},
     "output_type": "execute_result"
    }
   ],
   "source": [
    "df['Income'].max()"
   ]
  },
  {
   "cell_type": "code",
   "execution_count": 18,
   "id": "a5f8a7f2",
   "metadata": {},
   "outputs": [
    {
     "data": {
      "text/plain": [
       "0.41"
      ]
     },
     "execution_count": 18,
     "metadata": {},
     "output_type": "execute_result"
    }
   ],
   "source": [
    "df['Income'].min()"
   ]
  },
  {
   "cell_type": "code",
   "execution_count": 19,
   "id": "c4b21883",
   "metadata": {},
   "outputs": [
    {
     "data": {
      "text/plain": [
       "Married     240444\n",
       "Single       72110\n",
       "Widowed      68485\n",
       "Divorced     32729\n",
       "Name: Marital Status, dtype: int64"
      ]
     },
     "execution_count": 19,
     "metadata": {},
     "output_type": "execute_result"
    }
   ],
   "source": [
    "df['Marital Status'].value_counts()"
   ]
  },
  {
   "cell_type": "code",
   "execution_count": 20,
   "id": "406c28d7",
   "metadata": {},
   "outputs": [
    {
     "data": {
      "image/png": "[encoded data removed]",
      "text/plain": [
       "<Figure size 640x480 with 1 Axes>"
      ]
     },
     "metadata": {},
     "output_type": "display_data"
    }
   ],
   "source": [
    "df['Marital Status'].value_counts().plot.bar()\n",
    "plt.savefig(\"Marital Status Count.png\")\n",
    "plt.show()"
   ]
  },
  {
   "cell_type": "code",
   "execution_count": 21,
   "id": "ef64f20f",
   "metadata": {},
   "outputs": [
    {
     "data": {
      "text/plain": [
       "Employed      265659\n",
       "Unemployed    148109\n",
       "Name: Employment Status, dtype: int64"
      ]
     },
     "execution_count": 21,
     "metadata": {},
     "output_type": "execute_result"
    }
   ],
   "source": [
    "df['Employment Status'].value_counts()"
   ]
  },
  {
   "cell_type": "code",
   "execution_count": 22,
   "id": "8d498e94",
   "metadata": {},
   "outputs": [
    {
     "data": {
      "image/png": "[encoded data removed]",
      "text/plain": [
       "<Figure size 640x480 with 1 Axes>"
      ]
     },
     "metadata": {},
     "output_type": "display_data"
    }
   ],
   "source": [
    "df['Employment Status'].value_counts().plot.bar()\n",
    "plt.savefig(\"Employmet Status Count.png\")\n",
    "plt.show()"
   ]
  },
  {
   "cell_type": "code",
   "execution_count": null,
   "id": "eb4c250a",
   "metadata": {},
   "outputs": [],
   "source": []
  },
  {
   "cell_type": "code",
   "execution_count": null,
   "id": "40eb161e",
   "metadata": {},
   "outputs": [],
   "source": []
  },
  {
   "cell_type": "code",
   "execution_count": null,
   "id": "b9835d28",
   "metadata": {},
   "outputs": [],
   "source": []
  },
  {
   "cell_type": "code",
   "execution_count": null,
   "id": "51e614f6",
   "metadata": {},
   "outputs": [],
   "source": []
  },
  {
   "cell_type": "code",
   "execution_count": null,
   "id": "13e798cd",
   "metadata": {},
   "outputs": [],
   "source": []
  },
  {
   "cell_type": "code",
   "execution_count": 23,
   "id": "784fab66",
   "metadata": {},
   "outputs": [],
   "source": [
    "from sklearn.preprocessing import LabelEncoder\n",
    "label_encoder = LabelEncoder()\n",
    "df['Name'] = label_encoder.fit_transform(df['Name'])\n",
    "df['Marital Status'] = label_encoder.fit_transform(df['Marital Status'])\n",
    "df['Education Level'] = label_encoder.fit_transform(df['Education Level'])\n",
    "df['Smoking Status'] = label_encoder.fit_transform(df['Smoking Status'])\n",
    "df['Physical Activity Level'] = label_encoder.fit_transform(df['Physical Activity Level'])\n",
    "df['Employment Status'] = label_encoder.fit_transform(df['Employment Status'])\n",
    "df['Alcohol Consumption'] = label_encoder.fit_transform(df['Alcohol Consumption'])\n",
    "df['Dietary Habits'] = label_encoder.fit_transform(df['Dietary Habits'])\n",
    "df['Sleep Patterns'] = label_encoder.fit_transform(df['Sleep Patterns'])\n",
    "df['History of Mental Illness'] = label_encoder.fit_transform(df['History of Mental Illness'])\n",
    "df['History of Substance Abuse'] = label_encoder.fit_transform(df['History of Substance Abuse'])\n",
    "df['Family History of Depression'] = label_encoder.fit_transform(df['Family History of Depression'])\n",
    "df['Chronic Medical Conditions'] = label_encoder.fit_transform(df['Chronic Medical Conditions'])"
   ]
  },
  {
   "cell_type": "code",
   "execution_count": 24,
   "id": "d63645d9",
   "metadata": {},
   "outputs": [
    {
     "data": {
      "text/html": [
       "<div>\n",
       "<style scoped>\n",
       "    .dataframe tbody tr th:only-of-type {\n",
       "        vertical-align: middle;\n",
       "    }\n",
       "\n",
       "    .dataframe tbody tr th {\n",
       "        vertical-align: top;\n",
       "    }\n",
       "\n",
       "    .dataframe thead th {\n",
       "        text-align: right;\n",
       "    }\n",
       "</style>\n",
       "<table border=\"1\" class=\"dataframe\">\n",
       "  <thead>\n",
       "    <tr style=\"text-align: right;\">\n",
       "      <th></th>\n",
       "      <th>Name</th>\n",
       "      <th>Age</th>\n",
       "      <th>Marital Status</th>\n",
       "      <th>Education Level</th>\n",
       "      <th>Number of Children</th>\n",
       "      <th>Smoking Status</th>\n",
       "      <th>Physical Activity Level</th>\n",
       "      <th>Employment Status</th>\n",
       "      <th>Income</th>\n",
       "      <th>Alcohol Consumption</th>\n",
       "      <th>Dietary Habits</th>\n",
       "      <th>Sleep Patterns</th>\n",
       "      <th>History of Mental Illness</th>\n",
       "      <th>History of Substance Abuse</th>\n",
       "      <th>Family History of Depression</th>\n",
       "      <th>Chronic Medical Conditions</th>\n",
       "    </tr>\n",
       "  </thead>\n",
       "  <tbody>\n",
       "    <tr>\n",
       "      <th>0</th>\n",
       "      <td>37154</td>\n",
       "      <td>31</td>\n",
       "      <td>1</td>\n",
       "      <td>1</td>\n",
       "      <td>2</td>\n",
       "      <td>2</td>\n",
       "      <td>0</td>\n",
       "      <td>1</td>\n",
       "      <td>26265.67</td>\n",
       "      <td>2</td>\n",
       "      <td>1</td>\n",
       "      <td>0</td>\n",
       "      <td>1</td>\n",
       "      <td>0</td>\n",
       "      <td>1</td>\n",
       "      <td>1</td>\n",
       "    </tr>\n",
       "    <tr>\n",
       "      <th>1</th>\n",
       "      <td>78274</td>\n",
       "      <td>55</td>\n",
       "      <td>1</td>\n",
       "      <td>2</td>\n",
       "      <td>1</td>\n",
       "      <td>2</td>\n",
       "      <td>2</td>\n",
       "      <td>0</td>\n",
       "      <td>42710.36</td>\n",
       "      <td>0</td>\n",
       "      <td>2</td>\n",
       "      <td>0</td>\n",
       "      <td>1</td>\n",
       "      <td>0</td>\n",
       "      <td>0</td>\n",
       "      <td>1</td>\n",
       "    </tr>\n",
       "    <tr>\n",
       "      <th>2</th>\n",
       "      <td>169167</td>\n",
       "      <td>78</td>\n",
       "      <td>3</td>\n",
       "      <td>3</td>\n",
       "      <td>1</td>\n",
       "      <td>2</td>\n",
       "      <td>2</td>\n",
       "      <td>0</td>\n",
       "      <td>125332.79</td>\n",
       "      <td>1</td>\n",
       "      <td>2</td>\n",
       "      <td>1</td>\n",
       "      <td>0</td>\n",
       "      <td>0</td>\n",
       "      <td>1</td>\n",
       "      <td>0</td>\n",
       "    </tr>\n",
       "    <tr>\n",
       "      <th>3</th>\n",
       "      <td>34046</td>\n",
       "      <td>58</td>\n",
       "      <td>0</td>\n",
       "      <td>3</td>\n",
       "      <td>3</td>\n",
       "      <td>2</td>\n",
       "      <td>1</td>\n",
       "      <td>1</td>\n",
       "      <td>9992.78</td>\n",
       "      <td>2</td>\n",
       "      <td>1</td>\n",
       "      <td>2</td>\n",
       "      <td>0</td>\n",
       "      <td>0</td>\n",
       "      <td>0</td>\n",
       "      <td>0</td>\n",
       "    </tr>\n",
       "    <tr>\n",
       "      <th>4</th>\n",
       "      <td>133232</td>\n",
       "      <td>18</td>\n",
       "      <td>2</td>\n",
       "      <td>2</td>\n",
       "      <td>0</td>\n",
       "      <td>2</td>\n",
       "      <td>2</td>\n",
       "      <td>1</td>\n",
       "      <td>8595.08</td>\n",
       "      <td>1</td>\n",
       "      <td>1</td>\n",
       "      <td>0</td>\n",
       "      <td>1</td>\n",
       "      <td>0</td>\n",
       "      <td>1</td>\n",
       "      <td>1</td>\n",
       "    </tr>\n",
       "    <tr>\n",
       "      <th>...</th>\n",
       "      <td>...</td>\n",
       "      <td>...</td>\n",
       "      <td>...</td>\n",
       "      <td>...</td>\n",
       "      <td>...</td>\n",
       "      <td>...</td>\n",
       "      <td>...</td>\n",
       "      <td>...</td>\n",
       "      <td>...</td>\n",
       "      <td>...</td>\n",
       "      <td>...</td>\n",
       "      <td>...</td>\n",
       "      <td>...</td>\n",
       "      <td>...</td>\n",
       "      <td>...</td>\n",
       "      <td>...</td>\n",
       "    </tr>\n",
       "    <tr>\n",
       "      <th>413763</th>\n",
       "      <td>168103</td>\n",
       "      <td>68</td>\n",
       "      <td>1</td>\n",
       "      <td>3</td>\n",
       "      <td>0</td>\n",
       "      <td>1</td>\n",
       "      <td>1</td>\n",
       "      <td>0</td>\n",
       "      <td>109233.43</td>\n",
       "      <td>1</td>\n",
       "      <td>0</td>\n",
       "      <td>1</td>\n",
       "      <td>0</td>\n",
       "      <td>0</td>\n",
       "      <td>0</td>\n",
       "      <td>0</td>\n",
       "    </tr>\n",
       "    <tr>\n",
       "      <th>413764</th>\n",
       "      <td>36502</td>\n",
       "      <td>26</td>\n",
       "      <td>2</td>\n",
       "      <td>1</td>\n",
       "      <td>0</td>\n",
       "      <td>0</td>\n",
       "      <td>0</td>\n",
       "      <td>0</td>\n",
       "      <td>96760.97</td>\n",
       "      <td>1</td>\n",
       "      <td>0</td>\n",
       "      <td>2</td>\n",
       "      <td>1</td>\n",
       "      <td>1</td>\n",
       "      <td>0</td>\n",
       "      <td>1</td>\n",
       "    </tr>\n",
       "    <tr>\n",
       "      <th>413765</th>\n",
       "      <td>128422</td>\n",
       "      <td>57</td>\n",
       "      <td>1</td>\n",
       "      <td>1</td>\n",
       "      <td>0</td>\n",
       "      <td>2</td>\n",
       "      <td>2</td>\n",
       "      <td>0</td>\n",
       "      <td>77353.26</td>\n",
       "      <td>2</td>\n",
       "      <td>1</td>\n",
       "      <td>0</td>\n",
       "      <td>0</td>\n",
       "      <td>0</td>\n",
       "      <td>1</td>\n",
       "      <td>1</td>\n",
       "    </tr>\n",
       "    <tr>\n",
       "      <th>413766</th>\n",
       "      <td>69190</td>\n",
       "      <td>71</td>\n",
       "      <td>1</td>\n",
       "      <td>0</td>\n",
       "      <td>2</td>\n",
       "      <td>2</td>\n",
       "      <td>2</td>\n",
       "      <td>1</td>\n",
       "      <td>24557.08</td>\n",
       "      <td>2</td>\n",
       "      <td>1</td>\n",
       "      <td>2</td>\n",
       "      <td>0</td>\n",
       "      <td>1</td>\n",
       "      <td>0</td>\n",
       "      <td>0</td>\n",
       "    </tr>\n",
       "    <tr>\n",
       "      <th>413767</th>\n",
       "      <td>96102</td>\n",
       "      <td>62</td>\n",
       "      <td>3</td>\n",
       "      <td>3</td>\n",
       "      <td>0</td>\n",
       "      <td>1</td>\n",
       "      <td>1</td>\n",
       "      <td>0</td>\n",
       "      <td>107125.74</td>\n",
       "      <td>2</td>\n",
       "      <td>0</td>\n",
       "      <td>1</td>\n",
       "      <td>0</td>\n",
       "      <td>1</td>\n",
       "      <td>0</td>\n",
       "      <td>0</td>\n",
       "    </tr>\n",
       "  </tbody>\n",
       "</table>\n",
       "<p>413768 rows × 16 columns</p>\n",
       "</div>"
      ],
      "text/plain": [
       "          Name  Age  Marital Status  Education Level  Number of Children  \\\n",
       "0        37154   31               1                1                   2   \n",
       "1        78274   55               1                2                   1   \n",
       "2       169167   78               3                3                   1   \n",
       "3        34046   58               0                3                   3   \n",
       "4       133232   18               2                2                   0   \n",
       "...        ...  ...             ...              ...                 ...   \n",
       "413763  168103   68               1                3                   0   \n",
       "413764   36502   26               2                1                   0   \n",
       "413765  128422   57               1                1                   0   \n",
       "413766   69190   71               1                0                   2   \n",
       "413767   96102   62               3                3                   0   \n",
       "\n",
       "        Smoking Status  Physical Activity Level  Employment Status     Income  \\\n",
       "0                    2                        0                  1   26265.67   \n",
       "1                    2                        2                  0   42710.36   \n",
       "2                    2                        2                  0  125332.79   \n",
       "3                    2                        1                  1    9992.78   \n",
       "4                    2                        2                  1    8595.08   \n",
       "...                ...                      ...                ...        ...   \n",
       "413763               1                        1                  0  109233.43   \n",
       "413764               0                        0                  0   96760.97   \n",
       "413765               2                        2                  0   77353.26   \n",
       "413766               2                        2                  1   24557.08   \n",
       "413767               1                        1                  0  107125.74   \n",
       "\n",
       "        Alcohol Consumption  Dietary Habits  Sleep Patterns  \\\n",
       "0                         2               1               0   \n",
       "1                         0               2               0   \n",
       "2                         1               2               1   \n",
       "3                         2               1               2   \n",
       "4                         1               1               0   \n",
       "...                     ...             ...             ...   \n",
       "413763                    1               0               1   \n",
       "413764                    1               0               2   \n",
       "413765                    2               1               0   \n",
       "413766                    2               1               2   \n",
       "413767                    2               0               1   \n",
       "\n",
       "        History of Mental Illness  History of Substance Abuse  \\\n",
       "0                               1                           0   \n",
       "1                               1                           0   \n",
       "2                               0                           0   \n",
       "3                               0                           0   \n",
       "4                               1                           0   \n",
       "...                           ...                         ...   \n",
       "413763                          0                           0   \n",
       "413764                          1                           1   \n",
       "413765                          0                           0   \n",
       "413766                          0                           1   \n",
       "413767                          0                           1   \n",
       "\n",
       "        Family History of Depression  Chronic Medical Conditions  \n",
       "0                                  1                           1  \n",
       "1                                  0                           1  \n",
       "2                                  1                           0  \n",
       "3                                  0                           0  \n",
       "4                                  1                           1  \n",
       "...                              ...                         ...  \n",
       "413763                             0                           0  \n",
       "413764                             0                           1  \n",
       "413765                             1                           1  \n",
       "413766                             0                           0  \n",
       "413767                             0                           0  \n",
       "\n",
       "[413768 rows x 16 columns]"
      ]
     },
     "execution_count": 24,
     "metadata": {},
     "output_type": "execute_result"
    }
   ],
   "source": [
    "df"
   ]
  },
  {
   "cell_type": "code",
   "execution_count": 25,
   "id": "43ae57d1",
   "metadata": {},
   "outputs": [
    {
     "data": {
      "text/html": [
       "<div>\n",
       "<style scoped>\n",
       "    .dataframe tbody tr th:only-of-type {\n",
       "        vertical-align: middle;\n",
       "    }\n",
       "\n",
       "    .dataframe tbody tr th {\n",
       "        vertical-align: top;\n",
       "    }\n",
       "\n",
       "    .dataframe thead th {\n",
       "        text-align: right;\n",
       "    }\n",
       "</style>\n",
       "<table border=\"1\" class=\"dataframe\">\n",
       "  <thead>\n",
       "    <tr style=\"text-align: right;\">\n",
       "      <th></th>\n",
       "      <th>Name</th>\n",
       "      <th>Age</th>\n",
       "      <th>Marital Status</th>\n",
       "      <th>Education Level</th>\n",
       "      <th>Number of Children</th>\n",
       "      <th>Smoking Status</th>\n",
       "      <th>Physical Activity Level</th>\n",
       "      <th>Employment Status</th>\n",
       "      <th>Income</th>\n",
       "      <th>Alcohol Consumption</th>\n",
       "      <th>Dietary Habits</th>\n",
       "      <th>Sleep Patterns</th>\n",
       "      <th>History of Mental Illness</th>\n",
       "      <th>History of Substance Abuse</th>\n",
       "      <th>Family History of Depression</th>\n",
       "      <th>Chronic Medical Conditions</th>\n",
       "    </tr>\n",
       "  </thead>\n",
       "  <tbody>\n",
       "    <tr>\n",
       "      <th>Name</th>\n",
       "      <td>1.000000</td>\n",
       "      <td>-0.001263</td>\n",
       "      <td>-0.000220</td>\n",
       "      <td>-0.001097</td>\n",
       "      <td>-0.001683</td>\n",
       "      <td>-0.002356</td>\n",
       "      <td>0.000987</td>\n",
       "      <td>0.003938</td>\n",
       "      <td>-0.003078</td>\n",
       "      <td>-0.004670</td>\n",
       "      <td>0.001303</td>\n",
       "      <td>0.000394</td>\n",
       "      <td>0.000568</td>\n",
       "      <td>-0.000187</td>\n",
       "      <td>0.000577</td>\n",
       "      <td>0.001377</td>\n",
       "    </tr>\n",
       "    <tr>\n",
       "      <th>Age</th>\n",
       "      <td>-0.001263</td>\n",
       "      <td>1.000000</td>\n",
       "      <td>0.108468</td>\n",
       "      <td>0.034884</td>\n",
       "      <td>0.259268</td>\n",
       "      <td>0.285934</td>\n",
       "      <td>0.383360</td>\n",
       "      <td>0.217613</td>\n",
       "      <td>-0.065628</td>\n",
       "      <td>-0.007485</td>\n",
       "      <td>0.049183</td>\n",
       "      <td>0.012007</td>\n",
       "      <td>0.024683</td>\n",
       "      <td>-0.024388</td>\n",
       "      <td>0.107310</td>\n",
       "      <td>-0.017625</td>\n",
       "    </tr>\n",
       "    <tr>\n",
       "      <th>Marital Status</th>\n",
       "      <td>-0.000220</td>\n",
       "      <td>0.108468</td>\n",
       "      <td>1.000000</td>\n",
       "      <td>-0.004018</td>\n",
       "      <td>-0.166820</td>\n",
       "      <td>0.027463</td>\n",
       "      <td>0.028578</td>\n",
       "      <td>0.051218</td>\n",
       "      <td>-0.058978</td>\n",
       "      <td>-0.003916</td>\n",
       "      <td>0.029377</td>\n",
       "      <td>-0.053945</td>\n",
       "      <td>0.007178</td>\n",
       "      <td>0.001163</td>\n",
       "      <td>0.180402</td>\n",
       "      <td>-0.000261</td>\n",
       "    </tr>\n",
       "    <tr>\n",
       "      <th>Education Level</th>\n",
       "      <td>-0.001097</td>\n",
       "      <td>0.034884</td>\n",
       "      <td>-0.004018</td>\n",
       "      <td>1.000000</td>\n",
       "      <td>0.017454</td>\n",
       "      <td>0.010072</td>\n",
       "      <td>0.019560</td>\n",
       "      <td>0.008094</td>\n",
       "      <td>0.280200</td>\n",
       "      <td>-0.015127</td>\n",
       "      <td>-0.112566</td>\n",
       "      <td>0.001508</td>\n",
       "      <td>-0.018947</td>\n",
       "      <td>0.000864</td>\n",
       "      <td>0.004171</td>\n",
       "      <td>-0.000803</td>\n",
       "    </tr>\n",
       "    <tr>\n",
       "      <th>Number of Children</th>\n",
       "      <td>-0.001683</td>\n",
       "      <td>0.259268</td>\n",
       "      <td>-0.166820</td>\n",
       "      <td>0.017454</td>\n",
       "      <td>1.000000</td>\n",
       "      <td>0.072386</td>\n",
       "      <td>0.138686</td>\n",
       "      <td>0.030502</td>\n",
       "      <td>0.028737</td>\n",
       "      <td>-0.002663</td>\n",
       "      <td>0.000355</td>\n",
       "      <td>0.104357</td>\n",
       "      <td>0.002713</td>\n",
       "      <td>-0.008061</td>\n",
       "      <td>0.081044</td>\n",
       "      <td>-0.006997</td>\n",
       "    </tr>\n",
       "    <tr>\n",
       "      <th>Smoking Status</th>\n",
       "      <td>-0.002356</td>\n",
       "      <td>0.285934</td>\n",
       "      <td>0.027463</td>\n",
       "      <td>0.010072</td>\n",
       "      <td>0.072386</td>\n",
       "      <td>1.000000</td>\n",
       "      <td>0.106708</td>\n",
       "      <td>0.071795</td>\n",
       "      <td>-0.028192</td>\n",
       "      <td>0.099886</td>\n",
       "      <td>-0.022876</td>\n",
       "      <td>-0.054841</td>\n",
       "      <td>0.005256</td>\n",
       "      <td>-0.057317</td>\n",
       "      <td>0.031587</td>\n",
       "      <td>-0.041631</td>\n",
       "    </tr>\n",
       "    <tr>\n",
       "      <th>Physical Activity Level</th>\n",
       "      <td>0.000987</td>\n",
       "      <td>0.383360</td>\n",
       "      <td>0.028578</td>\n",
       "      <td>0.019560</td>\n",
       "      <td>0.138686</td>\n",
       "      <td>0.106708</td>\n",
       "      <td>1.000000</td>\n",
       "      <td>0.076949</td>\n",
       "      <td>-0.013467</td>\n",
       "      <td>-0.086855</td>\n",
       "      <td>0.329470</td>\n",
       "      <td>0.006778</td>\n",
       "      <td>0.008566</td>\n",
       "      <td>-0.009604</td>\n",
       "      <td>0.046298</td>\n",
       "      <td>-0.030727</td>\n",
       "    </tr>\n",
       "    <tr>\n",
       "      <th>Employment Status</th>\n",
       "      <td>0.003938</td>\n",
       "      <td>0.217613</td>\n",
       "      <td>0.051218</td>\n",
       "      <td>0.008094</td>\n",
       "      <td>0.030502</td>\n",
       "      <td>0.071795</td>\n",
       "      <td>0.076949</td>\n",
       "      <td>1.000000</td>\n",
       "      <td>-0.654881</td>\n",
       "      <td>-0.086438</td>\n",
       "      <td>0.014437</td>\n",
       "      <td>0.092668</td>\n",
       "      <td>0.140764</td>\n",
       "      <td>-0.003981</td>\n",
       "      <td>0.025649</td>\n",
       "      <td>0.042413</td>\n",
       "    </tr>\n",
       "    <tr>\n",
       "      <th>Income</th>\n",
       "      <td>-0.003078</td>\n",
       "      <td>-0.065628</td>\n",
       "      <td>-0.058978</td>\n",
       "      <td>0.280200</td>\n",
       "      <td>0.028737</td>\n",
       "      <td>-0.028192</td>\n",
       "      <td>-0.013467</td>\n",
       "      <td>-0.654881</td>\n",
       "      <td>1.000000</td>\n",
       "      <td>0.028164</td>\n",
       "      <td>-0.176881</td>\n",
       "      <td>-0.054982</td>\n",
       "      <td>-0.136805</td>\n",
       "      <td>0.000283</td>\n",
       "      <td>-0.007130</td>\n",
       "      <td>-0.028427</td>\n",
       "    </tr>\n",
       "    <tr>\n",
       "      <th>Alcohol Consumption</th>\n",
       "      <td>-0.004670</td>\n",
       "      <td>-0.007485</td>\n",
       "      <td>-0.003916</td>\n",
       "      <td>-0.015127</td>\n",
       "      <td>-0.002663</td>\n",
       "      <td>0.099886</td>\n",
       "      <td>-0.086855</td>\n",
       "      <td>-0.086438</td>\n",
       "      <td>0.028164</td>\n",
       "      <td>1.000000</td>\n",
       "      <td>-0.028885</td>\n",
       "      <td>-0.020300</td>\n",
       "      <td>-0.012422</td>\n",
       "      <td>-0.010559</td>\n",
       "      <td>-0.002813</td>\n",
       "      <td>-0.012397</td>\n",
       "    </tr>\n",
       "    <tr>\n",
       "      <th>Dietary Habits</th>\n",
       "      <td>0.001303</td>\n",
       "      <td>0.049183</td>\n",
       "      <td>0.029377</td>\n",
       "      <td>-0.112566</td>\n",
       "      <td>0.000355</td>\n",
       "      <td>-0.022876</td>\n",
       "      <td>0.329470</td>\n",
       "      <td>0.014437</td>\n",
       "      <td>-0.176881</td>\n",
       "      <td>-0.028885</td>\n",
       "      <td>1.000000</td>\n",
       "      <td>0.001999</td>\n",
       "      <td>0.027351</td>\n",
       "      <td>0.001553</td>\n",
       "      <td>0.005944</td>\n",
       "      <td>-0.014439</td>\n",
       "    </tr>\n",
       "    <tr>\n",
       "      <th>Sleep Patterns</th>\n",
       "      <td>0.000394</td>\n",
       "      <td>0.012007</td>\n",
       "      <td>-0.053945</td>\n",
       "      <td>0.001508</td>\n",
       "      <td>0.104357</td>\n",
       "      <td>-0.054841</td>\n",
       "      <td>0.006778</td>\n",
       "      <td>0.092668</td>\n",
       "      <td>-0.054982</td>\n",
       "      <td>-0.020300</td>\n",
       "      <td>0.001999</td>\n",
       "      <td>1.000000</td>\n",
       "      <td>0.016362</td>\n",
       "      <td>0.003800</td>\n",
       "      <td>-0.006065</td>\n",
       "      <td>0.011549</td>\n",
       "    </tr>\n",
       "    <tr>\n",
       "      <th>History of Mental Illness</th>\n",
       "      <td>0.000568</td>\n",
       "      <td>0.024683</td>\n",
       "      <td>0.007178</td>\n",
       "      <td>-0.018947</td>\n",
       "      <td>0.002713</td>\n",
       "      <td>0.005256</td>\n",
       "      <td>0.008566</td>\n",
       "      <td>0.140764</td>\n",
       "      <td>-0.136805</td>\n",
       "      <td>-0.012422</td>\n",
       "      <td>0.027351</td>\n",
       "      <td>0.016362</td>\n",
       "      <td>1.000000</td>\n",
       "      <td>0.001733</td>\n",
       "      <td>0.004887</td>\n",
       "      <td>0.006038</td>\n",
       "    </tr>\n",
       "    <tr>\n",
       "      <th>History of Substance Abuse</th>\n",
       "      <td>-0.000187</td>\n",
       "      <td>-0.024388</td>\n",
       "      <td>0.001163</td>\n",
       "      <td>0.000864</td>\n",
       "      <td>-0.008061</td>\n",
       "      <td>-0.057317</td>\n",
       "      <td>-0.009604</td>\n",
       "      <td>-0.003981</td>\n",
       "      <td>0.000283</td>\n",
       "      <td>-0.010559</td>\n",
       "      <td>0.001553</td>\n",
       "      <td>0.003800</td>\n",
       "      <td>0.001733</td>\n",
       "      <td>1.000000</td>\n",
       "      <td>-0.003321</td>\n",
       "      <td>0.003307</td>\n",
       "    </tr>\n",
       "    <tr>\n",
       "      <th>Family History of Depression</th>\n",
       "      <td>0.000577</td>\n",
       "      <td>0.107310</td>\n",
       "      <td>0.180402</td>\n",
       "      <td>0.004171</td>\n",
       "      <td>0.081044</td>\n",
       "      <td>0.031587</td>\n",
       "      <td>0.046298</td>\n",
       "      <td>0.025649</td>\n",
       "      <td>-0.007130</td>\n",
       "      <td>-0.002813</td>\n",
       "      <td>0.005944</td>\n",
       "      <td>-0.006065</td>\n",
       "      <td>0.004887</td>\n",
       "      <td>-0.003321</td>\n",
       "      <td>1.000000</td>\n",
       "      <td>-0.002274</td>\n",
       "    </tr>\n",
       "    <tr>\n",
       "      <th>Chronic Medical Conditions</th>\n",
       "      <td>0.001377</td>\n",
       "      <td>-0.017625</td>\n",
       "      <td>-0.000261</td>\n",
       "      <td>-0.000803</td>\n",
       "      <td>-0.006997</td>\n",
       "      <td>-0.041631</td>\n",
       "      <td>-0.030727</td>\n",
       "      <td>0.042413</td>\n",
       "      <td>-0.028427</td>\n",
       "      <td>-0.012397</td>\n",
       "      <td>-0.014439</td>\n",
       "      <td>0.011549</td>\n",
       "      <td>0.006038</td>\n",
       "      <td>0.003307</td>\n",
       "      <td>-0.002274</td>\n",
       "      <td>1.000000</td>\n",
       "    </tr>\n",
       "  </tbody>\n",
       "</table>\n",
       "</div>"
      ],
      "text/plain": [
       "                                  Name       Age  Marital Status  \\\n",
       "Name                          1.000000 -0.001263       -0.000220   \n",
       "Age                          -0.001263  1.000000        0.108468   \n",
       "Marital Status               -0.000220  0.108468        1.000000   \n",
       "Education Level              -0.001097  0.034884       -0.004018   \n",
       "Number of Children           -0.001683  0.259268       -0.166820   \n",
       "Smoking Status               -0.002356  0.285934        0.027463   \n",
       "Physical Activity Level       0.000987  0.383360        0.028578   \n",
       "Employment Status             0.003938  0.217613        0.051218   \n",
       "Income                       -0.003078 -0.065628       -0.058978   \n",
       "Alcohol Consumption          -0.004670 -0.007485       -0.003916   \n",
       "Dietary Habits                0.001303  0.049183        0.029377   \n",
       "Sleep Patterns                0.000394  0.012007       -0.053945   \n",
       "History of Mental Illness     0.000568  0.024683        0.007178   \n",
       "History of Substance Abuse   -0.000187 -0.024388        0.001163   \n",
       "Family History of Depression  0.000577  0.107310        0.180402   \n",
       "Chronic Medical Conditions    0.001377 -0.017625       -0.000261   \n",
       "\n",
       "                              Education Level  Number of Children  \\\n",
       "Name                                -0.001097           -0.001683   \n",
       "Age                                  0.034884            0.259268   \n",
       "Marital Status                      -0.004018           -0.166820   \n",
       "Education Level                      1.000000            0.017454   \n",
       "Number of Children                   0.017454            1.000000   \n",
       "Smoking Status                       0.010072            0.072386   \n",
       "Physical Activity Level              0.019560            0.138686   \n",
       "Employment Status                    0.008094            0.030502   \n",
       "Income                               0.280200            0.028737   \n",
       "Alcohol Consumption                 -0.015127           -0.002663   \n",
       "Dietary Habits                      -0.112566            0.000355   \n",
       "Sleep Patterns                       0.001508            0.104357   \n",
       "History of Mental Illness           -0.018947            0.002713   \n",
       "History of Substance Abuse           0.000864           -0.008061   \n",
       "Family History of Depression         0.004171            0.081044   \n",
       "Chronic Medical Conditions          -0.000803           -0.006997   \n",
       "\n",
       "                              Smoking Status  Physical Activity Level  \\\n",
       "Name                               -0.002356                 0.000987   \n",
       "Age                                 0.285934                 0.383360   \n",
       "Marital Status                      0.027463                 0.028578   \n",
       "Education Level                     0.010072                 0.019560   \n",
       "Number of Children                  0.072386                 0.138686   \n",
       "Smoking Status                      1.000000                 0.106708   \n",
       "Physical Activity Level             0.106708                 1.000000   \n",
       "Employment Status                   0.071795                 0.076949   \n",
       "Income                             -0.028192                -0.013467   \n",
       "Alcohol Consumption                 0.099886                -0.086855   \n",
       "Dietary Habits                     -0.022876                 0.329470   \n",
       "Sleep Patterns                     -0.054841                 0.006778   \n",
       "History of Mental Illness           0.005256                 0.008566   \n",
       "History of Substance Abuse         -0.057317                -0.009604   \n",
       "Family History of Depression        0.031587                 0.046298   \n",
       "Chronic Medical Conditions         -0.041631                -0.030727   \n",
       "\n",
       "                              Employment Status    Income  \\\n",
       "Name                                   0.003938 -0.003078   \n",
       "Age                                    0.217613 -0.065628   \n",
       "Marital Status                         0.051218 -0.058978   \n",
       "Education Level                        0.008094  0.280200   \n",
       "Number of Children                     0.030502  0.028737   \n",
       "Smoking Status                         0.071795 -0.028192   \n",
       "Physical Activity Level                0.076949 -0.013467   \n",
       "Employment Status                      1.000000 -0.654881   \n",
       "Income                                -0.654881  1.000000   \n",
       "Alcohol Consumption                   -0.086438  0.028164   \n",
       "Dietary Habits                         0.014437 -0.176881   \n",
       "Sleep Patterns                         0.092668 -0.054982   \n",
       "History of Mental Illness              0.140764 -0.136805   \n",
       "History of Substance Abuse            -0.003981  0.000283   \n",
       "Family History of Depression           0.025649 -0.007130   \n",
       "Chronic Medical Conditions             0.042413 -0.028427   \n",
       "\n",
       "                              Alcohol Consumption  Dietary Habits  \\\n",
       "Name                                    -0.004670        0.001303   \n",
       "Age                                     -0.007485        0.049183   \n",
       "Marital Status                          -0.003916        0.029377   \n",
       "Education Level                         -0.015127       -0.112566   \n",
       "Number of Children                      -0.002663        0.000355   \n",
       "Smoking Status                           0.099886       -0.022876   \n",
       "Physical Activity Level                 -0.086855        0.329470   \n",
       "Employment Status                       -0.086438        0.014437   \n",
       "Income                                   0.028164       -0.176881   \n",
       "Alcohol Consumption                      1.000000       -0.028885   \n",
       "Dietary Habits                          -0.028885        1.000000   \n",
       "Sleep Patterns                          -0.020300        0.001999   \n",
       "History of Mental Illness               -0.012422        0.027351   \n",
       "History of Substance Abuse              -0.010559        0.001553   \n",
       "Family History of Depression            -0.002813        0.005944   \n",
       "Chronic Medical Conditions              -0.012397       -0.014439   \n",
       "\n",
       "                              Sleep Patterns  History of Mental Illness  \\\n",
       "Name                                0.000394                   0.000568   \n",
       "Age                                 0.012007                   0.024683   \n",
       "Marital Status                     -0.053945                   0.007178   \n",
       "Education Level                     0.001508                  -0.018947   \n",
       "Number of Children                  0.104357                   0.002713   \n",
       "Smoking Status                     -0.054841                   0.005256   \n",
       "Physical Activity Level             0.006778                   0.008566   \n",
       "Employment Status                   0.092668                   0.140764   \n",
       "Income                             -0.054982                  -0.136805   \n",
       "Alcohol Consumption                -0.020300                  -0.012422   \n",
       "Dietary Habits                      0.001999                   0.027351   \n",
       "Sleep Patterns                      1.000000                   0.016362   \n",
       "History of Mental Illness           0.016362                   1.000000   \n",
       "History of Substance Abuse          0.003800                   0.001733   \n",
       "Family History of Depression       -0.006065                   0.004887   \n",
       "Chronic Medical Conditions          0.011549                   0.006038   \n",
       "\n",
       "                              History of Substance Abuse  \\\n",
       "Name                                           -0.000187   \n",
       "Age                                            -0.024388   \n",
       "Marital Status                                  0.001163   \n",
       "Education Level                                 0.000864   \n",
       "Number of Children                             -0.008061   \n",
       "Smoking Status                                 -0.057317   \n",
       "Physical Activity Level                        -0.009604   \n",
       "Employment Status                              -0.003981   \n",
       "Income                                          0.000283   \n",
       "Alcohol Consumption                            -0.010559   \n",
       "Dietary Habits                                  0.001553   \n",
       "Sleep Patterns                                  0.003800   \n",
       "History of Mental Illness                       0.001733   \n",
       "History of Substance Abuse                      1.000000   \n",
       "Family History of Depression                   -0.003321   \n",
       "Chronic Medical Conditions                      0.003307   \n",
       "\n",
       "                              Family History of Depression  \\\n",
       "Name                                              0.000577   \n",
       "Age                                               0.107310   \n",
       "Marital Status                                    0.180402   \n",
       "Education Level                                   0.004171   \n",
       "Number of Children                                0.081044   \n",
       "Smoking Status                                    0.031587   \n",
       "Physical Activity Level                           0.046298   \n",
       "Employment Status                                 0.025649   \n",
       "Income                                           -0.007130   \n",
       "Alcohol Consumption                              -0.002813   \n",
       "Dietary Habits                                    0.005944   \n",
       "Sleep Patterns                                   -0.006065   \n",
       "History of Mental Illness                         0.004887   \n",
       "History of Substance Abuse                       -0.003321   \n",
       "Family History of Depression                      1.000000   \n",
       "Chronic Medical Conditions                       -0.002274   \n",
       "\n",
       "                              Chronic Medical Conditions  \n",
       "Name                                            0.001377  \n",
       "Age                                            -0.017625  \n",
       "Marital Status                                 -0.000261  \n",
       "Education Level                                -0.000803  \n",
       "Number of Children                             -0.006997  \n",
       "Smoking Status                                 -0.041631  \n",
       "Physical Activity Level                        -0.030727  \n",
       "Employment Status                               0.042413  \n",
       "Income                                         -0.028427  \n",
       "Alcohol Consumption                            -0.012397  \n",
       "Dietary Habits                                 -0.014439  \n",
       "Sleep Patterns                                  0.011549  \n",
       "History of Mental Illness                       0.006038  \n",
       "History of Substance Abuse                      0.003307  \n",
       "Family History of Depression                   -0.002274  \n",
       "Chronic Medical Conditions                      1.000000  "
      ]
     },
     "execution_count": 25,
     "metadata": {},
     "output_type": "execute_result"
    }
   ],
   "source": [
    "df.corr()"
   ]
  },
  {
   "cell_type": "code",
   "execution_count": 26,
   "id": "43e2a427",
   "metadata": {},
   "outputs": [],
   "source": [
    "x = df.drop('Chronic Medical Conditions', axis=1)\n",
    "y = df['Chronic Medical Conditions']"
   ]
  },
  {
   "cell_type": "code",
   "execution_count": 27,
   "id": "048b91ab",
   "metadata": {},
   "outputs": [],
   "source": [
    "from sklearn.model_selection import train_test_split\n",
    "\n",
    "x_train, x_test, y_train, y_test = train_test_split(x,y,test_size=0.2,shuffle = True, random_state=1)"
   ]
  },
  {
   "cell_type": "code",
   "execution_count": 28,
   "id": "aad0337b",
   "metadata": {},
   "outputs": [
    {
     "data": {
      "text/html": [
       "<style>#sk-container-id-1 {color: black;background-color: white;}#sk-container-id-1 pre{padding: 0;}#sk-container-id-1 div.sk-toggleable {background-color: white;}#sk-container-id-1 label.sk-toggleable__label {cursor: pointer;display: block;width: 100%;margin-bottom: 0;padding: 0.3em;box-sizing: border-box;text-align: center;}#sk-container-id-1 label.sk-toggleable__label-arrow:before {content: \"▸\";float: left;margin-right: 0.25em;color: #696969;}#sk-container-id-1 label.sk-toggleable__label-arrow:hover:before {color: black;}#sk-container-id-1 div.sk-estimator:hover label.sk-toggleable__label-arrow:before {color: black;}#sk-container-id-1 div.sk-toggleable__content {max-height: 0;max-width: 0;overflow: hidden;text-align: left;background-color: #f0f8ff;}#sk-container-id-1 div.sk-toggleable__content pre {margin: 0.2em;color: black;border-radius: 0.25em;background-color: #f0f8ff;}#sk-container-id-1 input.sk-toggleable__control:checked~div.sk-toggleable__content {max-height: 200px;max-width: 100%;overflow: auto;}#sk-container-id-1 input.sk-toggleable__control:checked~label.sk-toggleable__label-arrow:before {content: \"▾\";}#sk-container-id-1 div.sk-estimator input.sk-toggleable__control:checked~label.sk-toggleable__label {background-color: #d4ebff;}#sk-container-id-1 div.sk-label input.sk-toggleable__control:checked~label.sk-toggleable__label {background-color: #d4ebff;}#sk-container-id-1 input.sk-hidden--visually {border: 0;clip: rect(1px 1px 1px 1px);clip: rect(1px, 1px, 1px, 1px);height: 1px;margin: -1px;overflow: hidden;padding: 0;position: absolute;width: 1px;}#sk-container-id-1 div.sk-estimator {font-family: monospace;background-color: #f0f8ff;border: 1px dotted black;border-radius: 0.25em;box-sizing: border-box;margin-bottom: 0.5em;}#sk-container-id-1 div.sk-estimator:hover {background-color: #d4ebff;}#sk-container-id-1 div.sk-parallel-item::after {content: \"\";width: 100%;border-bottom: 1px solid gray;flex-grow: 1;}#sk-container-id-1 div.sk-label:hover label.sk-toggleable__label {background-color: #d4ebff;}#sk-container-id-1 div.sk-serial::before {content: \"\";position: absolute;border-left: 1px solid gray;box-sizing: border-box;top: 0;bottom: 0;left: 50%;z-index: 0;}#sk-container-id-1 div.sk-serial {display: flex;flex-direction: column;align-items: center;background-color: white;padding-right: 0.2em;padding-left: 0.2em;position: relative;}#sk-container-id-1 div.sk-item {position: relative;z-index: 1;}#sk-container-id-1 div.sk-parallel {display: flex;align-items: stretch;justify-content: center;background-color: white;position: relative;}#sk-container-id-1 div.sk-item::before, #sk-container-id-1 div.sk-parallel-item::before {content: \"\";position: absolute;border-left: 1px solid gray;box-sizing: border-box;top: 0;bottom: 0;left: 50%;z-index: -1;}#sk-container-id-1 div.sk-parallel-item {display: flex;flex-direction: column;z-index: 1;position: relative;background-color: white;}#sk-container-id-1 div.sk-parallel-item:first-child::after {align-self: flex-end;width: 50%;}#sk-container-id-1 div.sk-parallel-item:last-child::after {align-self: flex-start;width: 50%;}#sk-container-id-1 div.sk-parallel-item:only-child::after {width: 0;}#sk-container-id-1 div.sk-dashed-wrapped {border: 1px dashed gray;margin: 0 0.4em 0.5em 0.4em;box-sizing: border-box;padding-bottom: 0.4em;background-color: white;}#sk-container-id-1 div.sk-label label {font-family: monospace;font-weight: bold;display: inline-block;line-height: 1.2em;}#sk-container-id-1 div.sk-label-container {text-align: center;}#sk-container-id-1 div.sk-container {/* jupyter's `normalize.less` sets `[hidden] { display: none; }` but bootstrap.min.css set `[hidden] { display: none !important; }` so we also need the `!important` here to be able to override the default hidden behavior on the sphinx rendered scikit-learn.org. See: https://github.com/scikit-learn/scikit-learn/issues/21755 */display: inline-block !important;position: relative;}#sk-container-id-1 div.sk-text-repr-fallback {display: none;}</style><div id=\"sk-container-id-1\" class=\"sk-top-container\"><div class=\"sk-text-repr-fallback\"><pre>LogisticRegression()</pre><b>In a Jupyter environment, please rerun this cell to show the HTML representation or trust the notebook. <br />On GitHub, the HTML representation is unable to render, please try loading this page with nbviewer.org.</b></div><div class=\"sk-container\" hidden><div class=\"sk-item\"><div class=\"sk-estimator sk-toggleable\"><input class=\"sk-toggleable__control sk-hidden--visually\" id=\"sk-estimator-id-1\" type=\"checkbox\" checked><label for=\"sk-estimator-id-1\" class=\"sk-toggleable__label sk-toggleable__label-arrow\">LogisticRegression</label><div class=\"sk-toggleable__content\"><pre>LogisticRegression()</pre></div></div></div></div></div>"
      ],
      "text/plain": [
       "LogisticRegression()"
      ]
     },
     "execution_count": 28,
     "metadata": {},
     "output_type": "execute_result"
    }
   ],
   "source": [
    "from sklearn.linear_model import LogisticRegression\n",
    "\n",
    "LR = LogisticRegression()\n",
    "LR.fit(x_train,y_train)"
   ]
  },
  {
   "cell_type": "code",
   "execution_count": 29,
   "id": "fa3be34c",
   "metadata": {},
   "outputs": [],
   "source": [
    "pred_lr = LR.predict(x_test)"
   ]
  },
  {
   "cell_type": "code",
   "execution_count": 30,
   "id": "620690e7",
   "metadata": {},
   "outputs": [
    {
     "data": {
      "text/plain": [
       "0.6687531720521063"
      ]
     },
     "execution_count": 30,
     "metadata": {},
     "output_type": "execute_result"
    }
   ],
   "source": [
    "lr_acc = LR.score(x_test,y_test)\n",
    "lr_acc"
   ]
  },
  {
   "cell_type": "code",
   "execution_count": 31,
   "id": "ca91343c",
   "metadata": {},
   "outputs": [
    {
     "name": "stdout",
     "output_type": "stream",
     "text": [
      "              precision    recall  f1-score   support\n",
      "\n",
      "           0       0.67      1.00      0.80     55342\n",
      "           1       0.00      0.00      0.00     27412\n",
      "\n",
      "    accuracy                           0.67     82754\n",
      "   macro avg       0.33      0.50      0.40     82754\n",
      "weighted avg       0.45      0.67      0.54     82754\n",
      "\n"
     ]
    }
   ],
   "source": [
    "from sklearn.metrics import classification_report\n",
    "print(classification_report(y_test,pred_lr))"
   ]
  },
  {
   "cell_type": "code",
   "execution_count": 32,
   "id": "107284ee",
   "metadata": {},
   "outputs": [
    {
     "data": {
      "text/html": [
       "<style>#sk-container-id-2 {color: black;background-color: white;}#sk-container-id-2 pre{padding: 0;}#sk-container-id-2 div.sk-toggleable {background-color: white;}#sk-container-id-2 label.sk-toggleable__label {cursor: pointer;display: block;width: 100%;margin-bottom: 0;padding: 0.3em;box-sizing: border-box;text-align: center;}#sk-container-id-2 label.sk-toggleable__label-arrow:before {content: \"▸\";float: left;margin-right: 0.25em;color: #696969;}#sk-container-id-2 label.sk-toggleable__label-arrow:hover:before {color: black;}#sk-container-id-2 div.sk-estimator:hover label.sk-toggleable__label-arrow:before {color: black;}#sk-container-id-2 div.sk-toggleable__content {max-height: 0;max-width: 0;overflow: hidden;text-align: left;background-color: #f0f8ff;}#sk-container-id-2 div.sk-toggleable__content pre {margin: 0.2em;color: black;border-radius: 0.25em;background-color: #f0f8ff;}#sk-container-id-2 input.sk-toggleable__control:checked~div.sk-toggleable__content {max-height: 200px;max-width: 100%;overflow: auto;}#sk-container-id-2 input.sk-toggleable__control:checked~label.sk-toggleable__label-arrow:before {content: \"▾\";}#sk-container-id-2 div.sk-estimator input.sk-toggleable__control:checked~label.sk-toggleable__label {background-color: #d4ebff;}#sk-container-id-2 div.sk-label input.sk-toggleable__control:checked~label.sk-toggleable__label {background-color: #d4ebff;}#sk-container-id-2 input.sk-hidden--visually {border: 0;clip: rect(1px 1px 1px 1px);clip: rect(1px, 1px, 1px, 1px);height: 1px;margin: -1px;overflow: hidden;padding: 0;position: absolute;width: 1px;}#sk-container-id-2 div.sk-estimator {font-family: monospace;background-color: #f0f8ff;border: 1px dotted black;border-radius: 0.25em;box-sizing: border-box;margin-bottom: 0.5em;}#sk-container-id-2 div.sk-estimator:hover {background-color: #d4ebff;}#sk-container-id-2 div.sk-parallel-item::after {content: \"\";width: 100%;border-bottom: 1px solid gray;flex-grow: 1;}#sk-container-id-2 div.sk-label:hover label.sk-toggleable__label {background-color: #d4ebff;}#sk-container-id-2 div.sk-serial::before {content: \"\";position: absolute;border-left: 1px solid gray;box-sizing: border-box;top: 0;bottom: 0;left: 50%;z-index: 0;}#sk-container-id-2 div.sk-serial {display: flex;flex-direction: column;align-items: center;background-color: white;padding-right: 0.2em;padding-left: 0.2em;position: relative;}#sk-container-id-2 div.sk-item {position: relative;z-index: 1;}#sk-container-id-2 div.sk-parallel {display: flex;align-items: stretch;justify-content: center;background-color: white;position: relative;}#sk-container-id-2 div.sk-item::before, #sk-container-id-2 div.sk-parallel-item::before {content: \"\";position: absolute;border-left: 1px solid gray;box-sizing: border-box;top: 0;bottom: 0;left: 50%;z-index: -1;}#sk-container-id-2 div.sk-parallel-item {display: flex;flex-direction: column;z-index: 1;position: relative;background-color: white;}#sk-container-id-2 div.sk-parallel-item:first-child::after {align-self: flex-end;width: 50%;}#sk-container-id-2 div.sk-parallel-item:last-child::after {align-self: flex-start;width: 50%;}#sk-container-id-2 div.sk-parallel-item:only-child::after {width: 0;}#sk-container-id-2 div.sk-dashed-wrapped {border: 1px dashed gray;margin: 0 0.4em 0.5em 0.4em;box-sizing: border-box;padding-bottom: 0.4em;background-color: white;}#sk-container-id-2 div.sk-label label {font-family: monospace;font-weight: bold;display: inline-block;line-height: 1.2em;}#sk-container-id-2 div.sk-label-container {text-align: center;}#sk-container-id-2 div.sk-container {/* jupyter's `normalize.less` sets `[hidden] { display: none; }` but bootstrap.min.css set `[hidden] { display: none !important; }` so we also need the `!important` here to be able to override the default hidden behavior on the sphinx rendered scikit-learn.org. See: https://github.com/scikit-learn/scikit-learn/issues/21755 */display: inline-block !important;position: relative;}#sk-container-id-2 div.sk-text-repr-fallback {display: none;}</style><div id=\"sk-container-id-2\" class=\"sk-top-container\"><div class=\"sk-text-repr-fallback\"><pre>DecisionTreeClassifier()</pre><b>In a Jupyter environment, please rerun this cell to show the HTML representation or trust the notebook. <br />On GitHub, the HTML representation is unable to render, please try loading this page with nbviewer.org.</b></div><div class=\"sk-container\" hidden><div class=\"sk-item\"><div class=\"sk-estimator sk-toggleable\"><input class=\"sk-toggleable__control sk-hidden--visually\" id=\"sk-estimator-id-2\" type=\"checkbox\" checked><label for=\"sk-estimator-id-2\" class=\"sk-toggleable__label sk-toggleable__label-arrow\">DecisionTreeClassifier</label><div class=\"sk-toggleable__content\"><pre>DecisionTreeClassifier()</pre></div></div></div></div></div>"
      ],
      "text/plain": [
       "DecisionTreeClassifier()"
      ]
     },
     "execution_count": 32,
     "metadata": {},
     "output_type": "execute_result"
    }
   ],
   "source": [
    "from sklearn.tree import DecisionTreeClassifier\n",
    "\n",
    "DT = DecisionTreeClassifier()\n",
    "DT.fit(x_train,y_train)"
   ]
  },
  {
   "cell_type": "code",
   "execution_count": 33,
   "id": "ae205825",
   "metadata": {},
   "outputs": [],
   "source": [
    "pred_dt = DT.predict(x_test)"
   ]
  },
  {
   "cell_type": "code",
   "execution_count": 34,
   "id": "ad156de8",
   "metadata": {},
   "outputs": [
    {
     "data": {
      "text/plain": [
       "0.5567706696957246"
      ]
     },
     "execution_count": 34,
     "metadata": {},
     "output_type": "execute_result"
    }
   ],
   "source": [
    "dt_acc = DT.score(x_test,y_test)\n",
    "dt_acc"
   ]
  },
  {
   "cell_type": "code",
   "execution_count": 35,
   "id": "181b1fd3",
   "metadata": {},
   "outputs": [
    {
     "name": "stdout",
     "output_type": "stream",
     "text": [
      "              precision    recall  f1-score   support\n",
      "\n",
      "           0       0.67      0.66      0.67     55342\n",
      "           1       0.34      0.35      0.34     27412\n",
      "\n",
      "    accuracy                           0.56     82754\n",
      "   macro avg       0.50      0.50      0.50     82754\n",
      "weighted avg       0.56      0.56      0.56     82754\n",
      "\n"
     ]
    }
   ],
   "source": [
    "print(classification_report(y_test,pred_dt))"
   ]
  },
  {
   "cell_type": "code",
   "execution_count": 36,
   "id": "15359497",
   "metadata": {},
   "outputs": [
    {
     "data": {
      "text/html": [
       "<style>#sk-container-id-3 {color: black;background-color: white;}#sk-container-id-3 pre{padding: 0;}#sk-container-id-3 div.sk-toggleable {background-color: white;}#sk-container-id-3 label.sk-toggleable__label {cursor: pointer;display: block;width: 100%;margin-bottom: 0;padding: 0.3em;box-sizing: border-box;text-align: center;}#sk-container-id-3 label.sk-toggleable__label-arrow:before {content: \"▸\";float: left;margin-right: 0.25em;color: #696969;}#sk-container-id-3 label.sk-toggleable__label-arrow:hover:before {color: black;}#sk-container-id-3 div.sk-estimator:hover label.sk-toggleable__label-arrow:before {color: black;}#sk-container-id-3 div.sk-toggleable__content {max-height: 0;max-width: 0;overflow: hidden;text-align: left;background-color: #f0f8ff;}#sk-container-id-3 div.sk-toggleable__content pre {margin: 0.2em;color: black;border-radius: 0.25em;background-color: #f0f8ff;}#sk-container-id-3 input.sk-toggleable__control:checked~div.sk-toggleable__content {max-height: 200px;max-width: 100%;overflow: auto;}#sk-container-id-3 input.sk-toggleable__control:checked~label.sk-toggleable__label-arrow:before {content: \"▾\";}#sk-container-id-3 div.sk-estimator input.sk-toggleable__control:checked~label.sk-toggleable__label {background-color: #d4ebff;}#sk-container-id-3 div.sk-label input.sk-toggleable__control:checked~label.sk-toggleable__label {background-color: #d4ebff;}#sk-container-id-3 input.sk-hidden--visually {border: 0;clip: rect(1px 1px 1px 1px);clip: rect(1px, 1px, 1px, 1px);height: 1px;margin: -1px;overflow: hidden;padding: 0;position: absolute;width: 1px;}#sk-container-id-3 div.sk-estimator {font-family: monospace;background-color: #f0f8ff;border: 1px dotted black;border-radius: 0.25em;box-sizing: border-box;margin-bottom: 0.5em;}#sk-container-id-3 div.sk-estimator:hover {background-color: #d4ebff;}#sk-container-id-3 div.sk-parallel-item::after {content: \"\";width: 100%;border-bottom: 1px solid gray;flex-grow: 1;}#sk-container-id-3 div.sk-label:hover label.sk-toggleable__label {background-color: #d4ebff;}#sk-container-id-3 div.sk-serial::before {content: \"\";position: absolute;border-left: 1px solid gray;box-sizing: border-box;top: 0;bottom: 0;left: 50%;z-index: 0;}#sk-container-id-3 div.sk-serial {display: flex;flex-direction: column;align-items: center;background-color: white;padding-right: 0.2em;padding-left: 0.2em;position: relative;}#sk-container-id-3 div.sk-item {position: relative;z-index: 1;}#sk-container-id-3 div.sk-parallel {display: flex;align-items: stretch;justify-content: center;background-color: white;position: relative;}#sk-container-id-3 div.sk-item::before, #sk-container-id-3 div.sk-parallel-item::before {content: \"\";position: absolute;border-left: 1px solid gray;box-sizing: border-box;top: 0;bottom: 0;left: 50%;z-index: -1;}#sk-container-id-3 div.sk-parallel-item {display: flex;flex-direction: column;z-index: 1;position: relative;background-color: white;}#sk-container-id-3 div.sk-parallel-item:first-child::after {align-self: flex-end;width: 50%;}#sk-container-id-3 div.sk-parallel-item:last-child::after {align-self: flex-start;width: 50%;}#sk-container-id-3 div.sk-parallel-item:only-child::after {width: 0;}#sk-container-id-3 div.sk-dashed-wrapped {border: 1px dashed gray;margin: 0 0.4em 0.5em 0.4em;box-sizing: border-box;padding-bottom: 0.4em;background-color: white;}#sk-container-id-3 div.sk-label label {font-family: monospace;font-weight: bold;display: inline-block;line-height: 1.2em;}#sk-container-id-3 div.sk-label-container {text-align: center;}#sk-container-id-3 div.sk-container {/* jupyter's `normalize.less` sets `[hidden] { display: none; }` but bootstrap.min.css set `[hidden] { display: none !important; }` so we also need the `!important` here to be able to override the default hidden behavior on the sphinx rendered scikit-learn.org. See: https://github.com/scikit-learn/scikit-learn/issues/21755 */display: inline-block !important;position: relative;}#sk-container-id-3 div.sk-text-repr-fallback {display: none;}</style><div id=\"sk-container-id-3\" class=\"sk-top-container\"><div class=\"sk-text-repr-fallback\"><pre>GradientBoostingClassifier(random_state=0)</pre><b>In a Jupyter environment, please rerun this cell to show the HTML representation or trust the notebook. <br />On GitHub, the HTML representation is unable to render, please try loading this page with nbviewer.org.</b></div><div class=\"sk-container\" hidden><div class=\"sk-item\"><div class=\"sk-estimator sk-toggleable\"><input class=\"sk-toggleable__control sk-hidden--visually\" id=\"sk-estimator-id-3\" type=\"checkbox\" checked><label for=\"sk-estimator-id-3\" class=\"sk-toggleable__label sk-toggleable__label-arrow\">GradientBoostingClassifier</label><div class=\"sk-toggleable__content\"><pre>GradientBoostingClassifier(random_state=0)</pre></div></div></div></div></div>"
      ],
      "text/plain": [
       "GradientBoostingClassifier(random_state=0)"
      ]
     },
     "execution_count": 36,
     "metadata": {},
     "output_type": "execute_result"
    }
   ],
   "source": [
    "from sklearn.ensemble import GradientBoostingClassifier\n",
    "\n",
    "GBC = GradientBoostingClassifier(random_state=0)\n",
    "GBC.fit(x_train, y_train)"
   ]
  },
  {
   "cell_type": "code",
   "execution_count": 37,
   "id": "c6bcd2c1",
   "metadata": {},
   "outputs": [],
   "source": [
    "predict_gbc = GBC.predict(x_test)"
   ]
  },
  {
   "cell_type": "code",
   "execution_count": 38,
   "id": "12adaa4e",
   "metadata": {},
   "outputs": [
    {
     "data": {
      "text/plain": [
       "0.6687169200280348"
      ]
     },
     "execution_count": 38,
     "metadata": {},
     "output_type": "execute_result"
    }
   ],
   "source": [
    "gbc_acc = GBC.score(x_test, y_test)\n",
    "gbc_acc"
   ]
  },
  {
   "cell_type": "code",
   "execution_count": 39,
   "id": "225f0acb",
   "metadata": {},
   "outputs": [
    {
     "name": "stdout",
     "output_type": "stream",
     "text": [
      "              precision    recall  f1-score   support\n",
      "\n",
      "           0       0.67      1.00      0.80     55342\n",
      "           1       0.43      0.00      0.00     27412\n",
      "\n",
      "    accuracy                           0.67     82754\n",
      "   macro avg       0.55      0.50      0.40     82754\n",
      "weighted avg       0.59      0.67      0.54     82754\n",
      "\n"
     ]
    }
   ],
   "source": [
    "print(classification_report(y_test,predict_gbc))"
   ]
  },
  {
   "cell_type": "code",
   "execution_count": 40,
   "id": "185986ca",
   "metadata": {},
   "outputs": [
    {
     "data": {
      "text/html": [
       "<style>#sk-container-id-4 {color: black;background-color: white;}#sk-container-id-4 pre{padding: 0;}#sk-container-id-4 div.sk-toggleable {background-color: white;}#sk-container-id-4 label.sk-toggleable__label {cursor: pointer;display: block;width: 100%;margin-bottom: 0;padding: 0.3em;box-sizing: border-box;text-align: center;}#sk-container-id-4 label.sk-toggleable__label-arrow:before {content: \"▸\";float: left;margin-right: 0.25em;color: #696969;}#sk-container-id-4 label.sk-toggleable__label-arrow:hover:before {color: black;}#sk-container-id-4 div.sk-estimator:hover label.sk-toggleable__label-arrow:before {color: black;}#sk-container-id-4 div.sk-toggleable__content {max-height: 0;max-width: 0;overflow: hidden;text-align: left;background-color: #f0f8ff;}#sk-container-id-4 div.sk-toggleable__content pre {margin: 0.2em;color: black;border-radius: 0.25em;background-color: #f0f8ff;}#sk-container-id-4 input.sk-toggleable__control:checked~div.sk-toggleable__content {max-height: 200px;max-width: 100%;overflow: auto;}#sk-container-id-4 input.sk-toggleable__control:checked~label.sk-toggleable__label-arrow:before {content: \"▾\";}#sk-container-id-4 div.sk-estimator input.sk-toggleable__control:checked~label.sk-toggleable__label {background-color: #d4ebff;}#sk-container-id-4 div.sk-label input.sk-toggleable__control:checked~label.sk-toggleable__label {background-color: #d4ebff;}#sk-container-id-4 input.sk-hidden--visually {border: 0;clip: rect(1px 1px 1px 1px);clip: rect(1px, 1px, 1px, 1px);height: 1px;margin: -1px;overflow: hidden;padding: 0;position: absolute;width: 1px;}#sk-container-id-4 div.sk-estimator {font-family: monospace;background-color: #f0f8ff;border: 1px dotted black;border-radius: 0.25em;box-sizing: border-box;margin-bottom: 0.5em;}#sk-container-id-4 div.sk-estimator:hover {background-color: #d4ebff;}#sk-container-id-4 div.sk-parallel-item::after {content: \"\";width: 100%;border-bottom: 1px solid gray;flex-grow: 1;}#sk-container-id-4 div.sk-label:hover label.sk-toggleable__label {background-color: #d4ebff;}#sk-container-id-4 div.sk-serial::before {content: \"\";position: absolute;border-left: 1px solid gray;box-sizing: border-box;top: 0;bottom: 0;left: 50%;z-index: 0;}#sk-container-id-4 div.sk-serial {display: flex;flex-direction: column;align-items: center;background-color: white;padding-right: 0.2em;padding-left: 0.2em;position: relative;}#sk-container-id-4 div.sk-item {position: relative;z-index: 1;}#sk-container-id-4 div.sk-parallel {display: flex;align-items: stretch;justify-content: center;background-color: white;position: relative;}#sk-container-id-4 div.sk-item::before, #sk-container-id-4 div.sk-parallel-item::before {content: \"\";position: absolute;border-left: 1px solid gray;box-sizing: border-box;top: 0;bottom: 0;left: 50%;z-index: -1;}#sk-container-id-4 div.sk-parallel-item {display: flex;flex-direction: column;z-index: 1;position: relative;background-color: white;}#sk-container-id-4 div.sk-parallel-item:first-child::after {align-self: flex-end;width: 50%;}#sk-container-id-4 div.sk-parallel-item:last-child::after {align-self: flex-start;width: 50%;}#sk-container-id-4 div.sk-parallel-item:only-child::after {width: 0;}#sk-container-id-4 div.sk-dashed-wrapped {border: 1px dashed gray;margin: 0 0.4em 0.5em 0.4em;box-sizing: border-box;padding-bottom: 0.4em;background-color: white;}#sk-container-id-4 div.sk-label label {font-family: monospace;font-weight: bold;display: inline-block;line-height: 1.2em;}#sk-container-id-4 div.sk-label-container {text-align: center;}#sk-container-id-4 div.sk-container {/* jupyter's `normalize.less` sets `[hidden] { display: none; }` but bootstrap.min.css set `[hidden] { display: none !important; }` so we also need the `!important` here to be able to override the default hidden behavior on the sphinx rendered scikit-learn.org. See: https://github.com/scikit-learn/scikit-learn/issues/21755 */display: inline-block !important;position: relative;}#sk-container-id-4 div.sk-text-repr-fallback {display: none;}</style><div id=\"sk-container-id-4\" class=\"sk-top-container\"><div class=\"sk-text-repr-fallback\"><pre>RandomForestClassifier(random_state=0)</pre><b>In a Jupyter environment, please rerun this cell to show the HTML representation or trust the notebook. <br />On GitHub, the HTML representation is unable to render, please try loading this page with nbviewer.org.</b></div><div class=\"sk-container\" hidden><div class=\"sk-item\"><div class=\"sk-estimator sk-toggleable\"><input class=\"sk-toggleable__control sk-hidden--visually\" id=\"sk-estimator-id-4\" type=\"checkbox\" checked><label for=\"sk-estimator-id-4\" class=\"sk-toggleable__label sk-toggleable__label-arrow\">RandomForestClassifier</label><div class=\"sk-toggleable__content\"><pre>RandomForestClassifier(random_state=0)</pre></div></div></div></div></div>"
      ],
      "text/plain": [
       "RandomForestClassifier(random_state=0)"
      ]
     },
     "execution_count": 40,
     "metadata": {},
     "output_type": "execute_result"
    }
   ],
   "source": [
    "from sklearn.ensemble import RandomForestClassifier\n",
    "\n",
    "RF = RandomForestClassifier(random_state=0)\n",
    "RF.fit(x_train,y_train)"
   ]
  },
  {
   "cell_type": "code",
   "execution_count": 41,
   "id": "316995c2",
   "metadata": {},
   "outputs": [],
   "source": [
    "predict_rf = RF.predict(x_test)"
   ]
  },
  {
   "cell_type": "code",
   "execution_count": 42,
   "id": "1c1c6924",
   "metadata": {},
   "outputs": [
    {
     "data": {
      "text/plain": [
       "0.6492979191338183"
      ]
     },
     "execution_count": 42,
     "metadata": {},
     "output_type": "execute_result"
    }
   ],
   "source": [
    "rf_acc = RF.score(x_test, y_test)\n",
    "rf_acc"
   ]
  },
  {
   "cell_type": "code",
   "execution_count": 43,
   "id": "15112acc",
   "metadata": {},
   "outputs": [
    {
     "name": "stdout",
     "output_type": "stream",
     "text": [
      "              precision    recall  f1-score   support\n",
      "\n",
      "           0       0.67      0.93      0.78     55342\n",
      "           1       0.36      0.07      0.12     27412\n",
      "\n",
      "    accuracy                           0.65     82754\n",
      "   macro avg       0.51      0.50      0.45     82754\n",
      "weighted avg       0.57      0.65      0.56     82754\n",
      "\n"
     ]
    }
   ],
   "source": [
    "print(classification_report(y_test,predict_rf))"
   ]
  },
  {
   "cell_type": "code",
   "execution_count": 44,
   "id": "abf4c00f",
   "metadata": {},
   "outputs": [
    {
     "data": {
      "text/html": [
       "<div>\n",
       "<style scoped>\n",
       "    .dataframe tbody tr th:only-of-type {\n",
       "        vertical-align: middle;\n",
       "    }\n",
       "\n",
       "    .dataframe tbody tr th {\n",
       "        vertical-align: top;\n",
       "    }\n",
       "\n",
       "    .dataframe thead th {\n",
       "        text-align: right;\n",
       "    }\n",
       "</style>\n",
       "<table border=\"1\" class=\"dataframe\">\n",
       "  <thead>\n",
       "    <tr style=\"text-align: right;\">\n",
       "      <th></th>\n",
       "      <th>Model</th>\n",
       "      <th>Accuracy Score</th>\n",
       "    </tr>\n",
       "  </thead>\n",
       "  <tbody>\n",
       "    <tr>\n",
       "      <th>0</th>\n",
       "      <td>Logistic Regression</td>\n",
       "      <td>0.668753</td>\n",
       "    </tr>\n",
       "    <tr>\n",
       "      <th>2</th>\n",
       "      <td>GradientBoostingClassifier</td>\n",
       "      <td>0.668717</td>\n",
       "    </tr>\n",
       "    <tr>\n",
       "      <th>3</th>\n",
       "      <td>Random Forest Classifier</td>\n",
       "      <td>0.649298</td>\n",
       "    </tr>\n",
       "    <tr>\n",
       "      <th>1</th>\n",
       "      <td>Decision Tree Classifier</td>\n",
       "      <td>0.556771</td>\n",
       "    </tr>\n",
       "  </tbody>\n",
       "</table>\n",
       "</div>"
      ],
      "text/plain": [
       "                        Model  Accuracy Score\n",
       "0         Logistic Regression        0.668753\n",
       "2  GradientBoostingClassifier        0.668717\n",
       "3    Random Forest Classifier        0.649298\n",
       "1    Decision Tree Classifier        0.556771"
      ]
     },
     "execution_count": 44,
     "metadata": {},
     "output_type": "execute_result"
    }
   ],
   "source": [
    "models = pd.DataFrame({\n",
    "    'Model' : ['Logistic Regression','Decision Tree Classifier', 'GradientBoostingClassifier','Random Forest Classifier'],\n",
    "    'Accuracy Score' : [lr_acc, dt_acc, gbc_acc, rf_acc]})\n",
    "     \n",
    "    \n",
    "models.sort_values(by = 'Accuracy Score', ascending = False)"
   ]
  },
  {
   "cell_type": "code",
   "execution_count": 45,
   "id": "4cd74fd3",
   "metadata": {},
   "outputs": [
    {
     "data": {
      "image/png": "[encoded data removed]",
      "text/plain": [
       "<Figure size 1000x600 with 1 Axes>"
      ]
     },
     "metadata": {},
     "output_type": "display_data"
    }
   ],
   "source": [
    "# Create a bar plot\n",
    "plt.figure(figsize=(10, 6))\n",
    "sns.barplot(data=models.sort_values(by = 'Accuracy Score', ascending = False), x='Model', y='Accuracy Score')\n",
    "plt.title('Accuracy Scores of Different Models')\n",
    "plt.ylabel('Accuracy Score')\n",
    "plt.savefig(\"Accuracy Scores of Different Models.png\")\n",
    "plt.show()"
   ]
  },
  {
   "cell_type": "code",
   "execution_count": 46,
   "id": "14b1da62",
   "metadata": {},
   "outputs": [],
   "source": [
    "### To be continued"
   ]
  },
  {
   "cell_type": "markdown",
   "id": "0daf3e22",
   "metadata": {},
   "source": [
    "## Conclusion"
   ]
  },
  {
   "cell_type": "markdown",
   "id": "58b2d453",
   "metadata": {},
   "source": [
    "1. Logistic Regression has the highest accuracy score of 0.668753, making it the best-performing model among those tested.\n",
    "2. GradientBoostingClassifier is a close second with an accuracy score of 0.668717, showing comparable performance to Logistic Regression.\n",
    "3. Random Forest Classifier has a lower accuracy score of 0.649298, indicating that it performs worse than both Logistic Regression and GradientBoostingClassifier.\n",
    "4. Decision Tree Classifier has the lowest accuracy score of 0.556771, making it the least effective model for this particular dataset.\n",
    "- In conclusion, both Logistic Regression and GradientBoostingClassifier are the most promising models for this dataset, with Logistic Regression having a slight edge. Random Forest Classifier and Decision Tree Classifier are less effective, with Decision Tree Classifier performing the worst. Further tuning and experimentation may be needed to improve the performance of these models, particularly Random Forest and Decision Tree."
   ]
  },
  {
   "cell_type": "code",
   "execution_count": null,
   "id": "65e88cc5",
   "metadata": {},
   "outputs": [],
   "source": []
  }
 ],
 "metadata": {
  "kernelspec": {
   "display_name": "Python 3 (ipykernel)",
   "language": "python",
   "name": "python3"
  },
  "language_info": {
   "codemirror_mode": {
    "name": "ipython",
    "version": 3
   },
   "file_extension": ".py",
   "mimetype": "text/x-python",
   "name": "python",
   "nbconvert_exporter": "python",
   "pygments_lexer": "ipython3",
   "version": "3.10.9"
  }
 },
 "nbformat": 4,
 "nbformat_minor": 5
}
